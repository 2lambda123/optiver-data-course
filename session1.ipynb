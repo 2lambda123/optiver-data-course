{
 "cells": [
  {
   "cell_type": "markdown",
   "metadata": {},
   "source": [
    "# <span style=\"color:gray\">Data analysis with pandas</span>\n",
    "\n",
    "# Introduction\n",
    "The goal of this course is to provide you with an overview of the pandas package and to introduce key functionalities. For each topic within the course, the plan is to begin by watching a brief <span style=\"color:red\">video</span> to gain a high-level understanding of the techniques. This is then supplemented with <span style=\"color:red\">online documentation</span> and hands-on <span style=\"color:red\">exercises</span> using data extracted from OneTick to deepen your knowledge. Please work through the course at your own pace and by making full use of the exercises contained in this notebook. Worked solutions are usually provided, but please do not refer to them until you've attempted the exercise yourself.\n"
   ]
  },
  {
   "cell_type": "markdown",
   "metadata": {},
   "source": [
    "## Tips for using Jupyter notebooks efficiently"
   ]
  },
  {
   "cell_type": "markdown",
   "metadata": {},
   "source": [
    "**Keyboard shortcuts**\n",
    "\n",
    "A list of keyboard shortcuts can be viewed by clicking Help > Keyboard Shortcuts in the notebook menu above. The most useful are\n",
    "\n",
    "    Shift+Enter: run a cell\n",
    "    Alt+Enter: run a cell and insert a new cell below\n",
    "    Ctrl+/: comment/uncomment a line"
   ]
  },
  {
   "cell_type": "markdown",
   "metadata": {},
   "source": [
    "**Autocompletion**\n",
    "\n",
    "To view and select from an object's available attributes, type a dot after the object's name then press the Tab key. First, let's import pandas."
   ]
  },
  {
   "cell_type": "code",
   "execution_count": null,
   "metadata": {},
   "outputs": [],
   "source": [
    "import pandas as pd"
   ]
  },
  {
   "cell_type": "markdown",
   "metadata": {},
   "source": [
    "Now uncomment the line below with Ctrl+/, place the cursor after the dot, then press Tab."
   ]
  },
  {
   "cell_type": "code",
   "execution_count": null,
   "metadata": {},
   "outputs": [],
   "source": [
    "# pd."
   ]
  },
  {
   "cell_type": "markdown",
   "metadata": {},
   "source": [
    "**Documentation**\n",
    "\n",
    "To see a method's documentation without visiting the online page, open a pair of parentheses after the method's name, place the cursor between them, then press Shift+Tab. This brings up the method's \"signature\" (its list of inputs), and documentation. While still holding Shift, each futher press of the Tab key enlarges the window.\n",
    "\n",
    "Select the __pd.read_csv()__ method using the autocomplete menu, then bring up the method's documentation.\n",
    "\n",
    "Alternatively, you can run __help(pd.read_csv)__ to display the entire documentation as output in the cell."
   ]
  },
  {
   "cell_type": "markdown",
   "metadata": {},
   "source": [
    "**Error messages and debugging**\n",
    "\n",
    "When starting out with a new package, your code will likely contain bugs that will throw error messages. Please do not give up immediately - take the time to read what the error message says! It will usually spell out what went wrong and therefore how to fix it.\n",
    "\n",
    "It is often a good idea to isolate the issue to the smallest snippet of code that reproduces the error (a \"Minimal Working Example\").\n",
    "\n",
    "If you cannot figure out what the error message means, just run a Google search on your problem. Since pandas is such a widely used package, the first result will often be a Stack Overflow page with an accepted solution to your question. Also, check the documentation to make sure you actually understand the functionality that you're trying to use.\n",
    "\n",
    "If you still cannot solve the issue, then ask for assistance from your instructor or colleagues.\n",
    "\n",
    "This procedure will initially be less efficient than asking your colleagues to debug your code for you, but will help you improve and become more independent in your programming."
   ]
  },
  {
   "cell_type": "markdown",
   "metadata": {},
   "source": [
    "**Trying something new in pandas**\n",
    "\n",
    "Pandas has been developed in such a way that it is very forgiving - if you think an operation should work, it most likely will! Don't be afraid to just try out the most obvious solution and see if it works.\n",
    "\n",
    "Pandas also has extensive mathematical and data analysis functionality, so don't re-invent the wheel - try searching through the documentation to see if a function already exists before writing your own code."
   ]
  },
  {
   "cell_type": "markdown",
   "metadata": {},
   "source": [
    "**Saving your notebooks**\n",
    "\n",
    "You can save your notebooks with File > Save and Checkpoint or with Esc then s. Notebooks can also be downloaded with File > Download as > Notebook. If you're running the notebook on an external server, you'll need to download your notebook when you finish your session and re-upload it to continue your work."
   ]
  },
  {
   "cell_type": "markdown",
   "metadata": {},
   "source": [
    "------------------------------------------\n",
    "<a id='top'></a>\n",
    "## Session contents\n",
    "### [1. Data structures](#data_structures)\n",
    "### [2. Importing data](#importing_data)\n",
    "### [3. Selecting data](#selecting_data)\n",
    "### [Exercise set 1](#exercises1)"
   ]
  },
  {
   "cell_type": "markdown",
   "metadata": {},
   "source": [
    "--------------------------------------\n",
    "<a id='data_structures'></a>\n",
    "\n",
    "## 1. Data structures\n",
    "\n",
    "There are two main data structures in the pandas library – a DataFrame object and a Series object. Both objects have axis labels that are collectively referred to as the index. You can think of a Series object as a 1-dimensional array where each entry has an *index label*. Similarly, a DataFrame is a 2-dimensional structure, akin to a matrix or a spreadsheet, but each row has a corresponding *index label*. The *index* is a sequential list of these *index labels*. It is possible to reference a subset of the data by calling the corresponding *index labels*."
   ]
  },
  {
   "cell_type": "markdown",
   "metadata": {},
   "source": [
    "<div class=\"alert alert-block alert-info\">\n",
    "\n",
    "<span style=\"color:green\">YouTube video</span>\n",
    "\n",
    "Watch until around the 22 minute mark to get a better understanding of data structures:\n",
    "\n",
    "https://www.youtube.com/watch?v=dye7rDktJ2E&start=678"
   ]
  },
  {
   "cell_type": "markdown",
   "metadata": {},
   "source": [
    "**Key methods and attributes covered:**\n",
    "\n",
    "    pd.read_csv() - imports csv as a DataFrame or Series object\n",
    "    df.head() - returns the first few rows of a DataFrame\n",
    "    type() - returns an object's type\n",
    "    df.shape - the shape (dimension) of a DataFrame\n",
    "    df.columns - a list of the DataFrame's columns\n",
    "    df.dtypes - a list of the object types by column"
   ]
  },
  {
   "cell_type": "markdown",
   "metadata": {},
   "source": [
    "<div class=\"alert alert-block alert-info\">\n",
    "\n",
    "<span style=\"color:green\">Additional resources</span>\n",
    "\n",
    "http://pandas.pydata.org/pandas-docs/stable/dsintro.html\n",
    "http://nbviewer.jupyter.org/github/jakevdp/PythonDataScienceHandbook/blob/master/notebooks/03.01-Introducing-Pandas-Objects.ipynb\n"
   ]
  },
  {
   "cell_type": "markdown",
   "metadata": {},
   "source": [
    "[Back to top](#top)"
   ]
  },
  {
   "cell_type": "markdown",
   "metadata": {
    "collapsed": true
   },
   "source": [
    "----------------------------\n",
    "<a id='importing_data'></a>\n",
    "## 2. Importing the datasets\n"
   ]
  },
  {
   "cell_type": "markdown",
   "metadata": {
    "collapsed": true
   },
   "source": [
    "Probably the most common method to import data is __pd.read_csv__, which takes a CSV (comma-separated variable) file  and returns a pandas DataFrame. Pandas also supports importing Excel workbooks, text files, and the results of SQL queries. See the linked documentation for a full list of import functions and their arguments."
   ]
  },
  {
   "cell_type": "markdown",
   "metadata": {},
   "source": [
    "You can load CSV files by using either the relative path from your notebook's working directory (e.g. 'name.csv'), or by giving the absolute path to the CSV file (e.g. 'H:/Desktop/name.csv').\n",
    "\n",
    "    pd.read_csv('name.csv', names=[column1, column2, ...], index_col=True/False)\n",
    "\n",
    "\n",
    "<div class=\"alert alert-block alert-info\">\n",
    "\n",
    "<span style=\"color:green\">Additional resources</span>\n",
    "\n",
    "http://pandas.pydata.org/pandas-docs/stable/io.html\n"
   ]
  },
  {
   "cell_type": "markdown",
   "metadata": {},
   "source": [
    "Let's start by importing __quote.csv__ in the __data/__ folder into a DataFrame called __df_qte__, then calling __.head()__ on the DataFrame to view the first few rows."
   ]
  },
  {
   "cell_type": "code",
   "execution_count": null,
   "metadata": {},
   "outputs": [],
   "source": []
  },
  {
   "cell_type": "code",
   "execution_count": null,
   "metadata": {
    "scrolled": true
   },
   "outputs": [],
   "source": [
    "# solutions\n",
    "%load solutions/import_sol1.py"
   ]
  },
  {
   "cell_type": "markdown",
   "metadata": {},
   "source": [
    "As you can see, we now have a DataFrame that contains a day of quote data for a security.\n",
    "\n",
    "Bids are buy orders resting in the market, and asks/offers are the sell orders. Bids and offers have an associated price and size (\n",
    "\n",
    "Let's rename the columns so they're easier to read - change 'TIMESTAMP' to 'Timestamp', 'BID_SIZE' to 'BidSize', and so on.\n",
    "\n",
    "Try this in the cell below setting the __.columns__ attribute to equal a new list of column names."
   ]
  },
  {
   "cell_type": "code",
   "execution_count": null,
   "metadata": {},
   "outputs": [],
   "source": []
  },
  {
   "cell_type": "code",
   "execution_count": null,
   "metadata": {},
   "outputs": [],
   "source": [
    "# solutions\n",
    "%load solutions/import_sol2.py"
   ]
  },
  {
   "cell_type": "markdown",
   "metadata": {},
   "source": [
    "Let's double check that the type of data structure is indeed a DataFrame."
   ]
  },
  {
   "cell_type": "code",
   "execution_count": null,
   "metadata": {},
   "outputs": [],
   "source": [
    "type(df_qte)"
   ]
  },
  {
   "cell_type": "markdown",
   "metadata": {},
   "source": [
    "Also check the object type of the 'BidPrice' column."
   ]
  },
  {
   "cell_type": "code",
   "execution_count": null,
   "metadata": {},
   "outputs": [],
   "source": [
    "type(df_qte.BidPrice)"
   ]
  },
  {
   "cell_type": "markdown",
   "metadata": {},
   "source": [
    "[Back to top](#top)"
   ]
  },
  {
   "cell_type": "markdown",
   "metadata": {},
   "source": [
    "--------------------\n",
    "<a id='selecting_data'></a>\n",
    "## 3. Selecting the data"
   ]
  },
  {
   "cell_type": "markdown",
   "metadata": {},
   "source": [
    "You can select columns in a DataFrame object df with either of the following:\n",
    "\n",
    "    df['column_name']\n",
    "    df.column_name\n",
    "    \n",
    "The former will always work, whereas the latter has some caveats:\n",
    "1. It can't be used if the column name contains spaces, e.g. a column named 'white space' cannot be accessed with df.white space.\n",
    "2. It can only be used to refer to an existing column, not create a new column.\n",
    "\n",
    "Since Series and DataFrame objects are ordered, we can slice the data by specifying either label (using the __.loc__ method) or position (using the __.iloc__ method). There is also the __.ix__ method, which tries label-based indexing first but reverts to position-based indexing if a label is not found.\n",
    "\n",
    "Columns should usually be selected by their label rather than position, since column ordering is often arbitrary (like in a spreadsheet). Rows, on the other hand, may be selected by label or position depending on the context, e.g. the 100th trade (position) or the trade at 12:30pm (label)."
   ]
  },
  {
   "cell_type": "markdown",
   "metadata": {},
   "source": [
    "<div class=\"alert alert-block alert-warning\">\n",
    "It is best to avoid using __.ix__ if possible, in favour of the more explicit .loc and .iloc methods. See the following page for more details about how to avoid using .ix.\n",
    "https://pandas.pydata.org/pandas-docs/stable/indexing.html#ix-indexer-is-deprecated"
   ]
  },
  {
   "cell_type": "markdown",
   "metadata": {},
   "source": [
    "<div class=\"alert alert-block alert-info\">\n",
    "\n",
    "<span style=\"color:green\">YouTube video</span>\n",
    "\n",
    "Watch the video until around the 40 minute mark for more detail about these three methods of slicing.\n",
    "\n",
    "\n",
    "https://www.youtube.com/watch?v=dye7rDktJ2E&start=1602"
   ]
  },
  {
   "cell_type": "markdown",
   "metadata": {},
   "source": [
    "<div class=\"alert alert-block alert-warning\">\n",
    "If you would like to modify data within your DataFrame using the above methods (eg. df.ix[0,0] = ‘newvalue’), be wary of the difference between working on a copy of the DataFrame and the DataFrame itself. See the answer to the following Stackoverflow question for more details.\n",
    "http://stackoverflow.com/questions/17995328/changing-values-in-pandas-dataframe-doenst-work\n"
   ]
  },
  {
   "cell_type": "markdown",
   "metadata": {},
   "source": [
    "**Key methods covered:**\n",
    "\n",
    "    df.loc - selects by explicit index (index name)\n",
    "    df.iloc - selects by implicit index (index number)\n",
    "    df.ix - combines loc and iloc functionality"
   ]
  },
  {
   "cell_type": "markdown",
   "metadata": {},
   "source": [
    "<div class=\"alert alert-block alert-info\">\n",
    "\n",
    "<span style=\"color:green\">Additional resources</span>\n",
    "\n",
    "http://nbviewer.jupyter.org/github/jakevdp/PythonDataScienceHandbook/blob/master/notebooks/03.02-Data-Indexing-and-Selection.ipynb\n",
    "\n",
    "http://pandas.pydata.org/pandas-docs/stable/10min.html#viewing-data\n"
   ]
  },
  {
   "cell_type": "markdown",
   "metadata": {},
   "source": [
    "To familiarise ourselves with the loc and iloc methods, let's have a play around with this DataFrame.\n",
    "\n",
    "First, try to use .loc to access the first row."
   ]
  },
  {
   "cell_type": "code",
   "execution_count": null,
   "metadata": {},
   "outputs": [],
   "source": []
  },
  {
   "cell_type": "code",
   "execution_count": null,
   "metadata": {},
   "outputs": [],
   "source": [
    "#solutions\n",
    "%load solutions/reference_sol0.py"
   ]
  },
  {
   "cell_type": "markdown",
   "metadata": {},
   "source": [
    "You can see that the data contained a column called 'Index', which is separate from the actual index of this DataFrame.\n",
    "\n",
    "Let's drop this 'Index' column using the __.drop__ method to avoid confusion."
   ]
  },
  {
   "cell_type": "code",
   "execution_count": null,
   "metadata": {},
   "outputs": [],
   "source": []
  },
  {
   "cell_type": "code",
   "execution_count": null,
   "metadata": {
    "scrolled": true
   },
   "outputs": [],
   "source": [
    "#solutions\n",
    "%load solutions/reference_sol1.py"
   ]
  },
  {
   "cell_type": "markdown",
   "metadata": {},
   "source": [
    "Let's use a simpler DataFrame to illustrate the difference between these methods. Say we have a dictionary called my_dict:"
   ]
  },
  {
   "cell_type": "code",
   "execution_count": null,
   "metadata": {},
   "outputs": [],
   "source": [
    "my_dict = {\n",
    "    'Index': ['Monday', 'Tuesday', 'Wednesday', 'Thursday'],\n",
    "    'optiver_turnover': [ 46386,  43775,  75742,  17474],\n",
    "    'total_turnover':   [278837, 439771, 583722, 358834],\n",
    "    'volatility':       [  12.5,   14.0,   21.5,   16.0],\n",
    "    }\n",
    "my_dict"
   ]
  },
  {
   "cell_type": "markdown",
   "metadata": {},
   "source": [
    "We can create a DataFrame from this dictionary by simply passing this dict into pd.DataFrame"
   ]
  },
  {
   "cell_type": "code",
   "execution_count": null,
   "metadata": {},
   "outputs": [],
   "source": [
    "df = pd.DataFrame(my_dict)\n",
    "df"
   ]
  },
  {
   "cell_type": "markdown",
   "metadata": {},
   "source": [
    "However, it is quite clear that instead of using the default index range(4), it would make more sense to set the column named 'Index' as the index of the DataFrame. \n",
    "\n",
    "\n",
    "There are two ways to do this. Either we can replace the .index of this DataFrame with the column 'Index'\n",
    "\n",
    "    df.index = df['Index']\n",
    "    "
   ]
  },
  {
   "cell_type": "code",
   "execution_count": null,
   "metadata": {},
   "outputs": [],
   "source": [
    "df.index = df['Index']\n",
    "df"
   ]
  },
  {
   "cell_type": "markdown",
   "metadata": {},
   "source": [
    "but then we would have 'Index' as both our index and as a duplicated column 'Index'. This is why we use the __.set_index__ method of a DataFrame (with drop=True to delete the current index column instead of moving it back into the DataFrame).\n",
    "    \n",
    "    df.set_index('Index', drop=True)\n",
    "\n",
    "Note that df.set_index creates a new DataFrame object by default (so df will be unchanged). We can either overwrite df\n",
    "\n",
    "    df = df.set_index('Index', drop=True)\n",
    "    \n",
    "or modify our existing DataFrame instead with inplace=True\n",
    "    \n",
    "    df.set_index('Index', drop=True, inplace=True).\n",
    "    \n",
    "Be aware that inplace operations do not work when \"chaining\" methods together, e.g.\n",
    "\n",
    "    df.drop('Index', 1).set_index('Timestamp', drop=True).\n",
    "    \n",
    "If you don't yet see when and why inplace operations can fail, it's better to avoid them for now."
   ]
  },
  {
   "cell_type": "code",
   "execution_count": null,
   "metadata": {},
   "outputs": [],
   "source": [
    "df.set_index('Index', drop=True, inplace=True)\n",
    "df"
   ]
  },
  {
   "cell_type": "markdown",
   "metadata": {},
   "source": [
    "If we decide later that we want 'Index' to be a regular column again, we can use the __.reset_index__ to do this.\n",
    "    \n",
    "    df.reset_index(inplace=True)\n",
    "    \n",
    "A new default index will be generated."
   ]
  },
  {
   "cell_type": "markdown",
   "metadata": {},
   "source": [
    "Using the __.loc__ and/or __.iloc__ methods, try to return Wednesday's volatility."
   ]
  },
  {
   "cell_type": "code",
   "execution_count": null,
   "metadata": {},
   "outputs": [],
   "source": []
  },
  {
   "cell_type": "code",
   "execution_count": null,
   "metadata": {},
   "outputs": [],
   "source": []
  },
  {
   "cell_type": "code",
   "execution_count": null,
   "metadata": {},
   "outputs": [],
   "source": [
    "#solutions\n",
    "%load solutions/reference_sol2.py"
   ]
  },
  {
   "cell_type": "markdown",
   "metadata": {},
   "source": [
    "Now, use __.loc__ to set a volatility of 17.0 on Friday."
   ]
  },
  {
   "cell_type": "code",
   "execution_count": null,
   "metadata": {},
   "outputs": [],
   "source": []
  },
  {
   "cell_type": "code",
   "execution_count": null,
   "metadata": {},
   "outputs": [],
   "source": [
    "#solutions\n",
    "%load solutions/reference_sol3.py"
   ]
  },
  {
   "cell_type": "markdown",
   "metadata": {},
   "source": [
    "You'll notice that the turnover columns are missing data on Friday (indicated by __NaN__). We will look at methods for dealing with missing data later in the course."
   ]
  },
  {
   "cell_type": "markdown",
   "metadata": {},
   "source": [
    "[Back to top](#top)"
   ]
  },
  {
   "cell_type": "markdown",
   "metadata": {},
   "source": [
    "-------------------\n",
    "<a id='exercises1'></a>\n",
    "## Exercise set 1\n",
    "\n",
    "The following exercises refer to quote.csv (df_qte) data. They should done with code, rather than just viewing the contents of the DataFrame in a cell. Your code should return the answer, and not any extra unneccesary data.\n",
    "\n",
    "1. How many quote updates were received during the day?\n",
    "2. What is the midpoint (average price) of the quotes at the 500th update of the day?\n",
    "3. What are the bid and ask sizes at the 100th last update of the day? (Do this in a single line of code.)"
   ]
  },
  {
   "cell_type": "code",
   "execution_count": null,
   "metadata": {},
   "outputs": [],
   "source": []
  },
  {
   "cell_type": "code",
   "execution_count": null,
   "metadata": {},
   "outputs": [],
   "source": []
  },
  {
   "cell_type": "code",
   "execution_count": null,
   "metadata": {},
   "outputs": [],
   "source": []
  },
  {
   "cell_type": "code",
   "execution_count": null,
   "metadata": {},
   "outputs": [],
   "source": []
  },
  {
   "cell_type": "code",
   "execution_count": null,
   "metadata": {},
   "outputs": [],
   "source": []
  },
  {
   "cell_type": "code",
   "execution_count": null,
   "metadata": {},
   "outputs": [],
   "source": []
  },
  {
   "cell_type": "code",
   "execution_count": null,
   "metadata": {},
   "outputs": [],
   "source": []
  },
  {
   "cell_type": "code",
   "execution_count": null,
   "metadata": {},
   "outputs": [],
   "source": []
  },
  {
   "cell_type": "code",
   "execution_count": null,
   "metadata": {},
   "outputs": [],
   "source": []
  },
  {
   "cell_type": "markdown",
   "metadata": {},
   "source": [
    "[Back to top](#top)"
   ]
  }
 ],
 "metadata": {
  "anaconda-cloud": {},
  "kernelspec": {
   "display_name": "Python 2",
   "language": "python",
   "name": "python2"
  },
  "language_info": {
   "codemirror_mode": {
    "name": "ipython",
    "version": 2
   },
   "file_extension": ".py",
   "mimetype": "text/x-python",
   "name": "python",
   "nbconvert_exporter": "python",
   "pygments_lexer": "ipython2",
   "version": "2.7.14"
  }
 },
 "nbformat": 4,
 "nbformat_minor": 1
}
