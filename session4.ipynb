{
 "cells": [
  {
   "cell_type": "markdown",
   "metadata": {},
   "source": [
    "------------------------------------------\n",
    "<a id='top'></a>\n",
    "## Session contents\n",
    "### [10. Working with Timestamps](#timestamps)\n",
    "### [11. Resampling data](#resampling_data)\n",
    "### [12.  Merging by time](#merge_time)\n",
    "### [Exercise set 4](#exercises4)"
   ]
  },
  {
   "cell_type": "markdown",
   "metadata": {},
   "source": [
    "-------------------\n",
    "<a id='timestamps'></a>\n",
    "## 10. Working with Timestamps\n",
    "\n",
    "Since financial data are often time series, it makes sense to set the index of our DataFrame to be the timestamp of each event. Pandas provides a __pd.to_datetime()__ function to convert strings or other date objects into datetime64 objects that pandas likes to work with.\n",
    "\n",
    "When a column of timestamps (datetime64 objects) is set as the index, a lot of time-series methods for the DataFrame become available.\n",
    "\n",
    "<div class=\"alert alert-block alert-info\">\n",
    "\n",
    "<span style=\"color:green\">Additional resources</span>\n",
    "\n",
    "http://pandas.pydata.org/pandas-docs/stable/timeseries.html\n",
    "http://nbviewer.jupyter.org/github/jakevdp/PythonDataScienceHandbook/blob/master/notebooks/03.11-Working-with-Time-Series.ipynb#Dates-and-times-in-pandas:-best-of-both-worlds\n",
    "\n",
    "http://pandas.pydata.org/pandas-docs/version/0.19.0/generated/pandas.DataFrame.asof.html\n"
   ]
  },
  {
   "cell_type": "markdown",
   "metadata": {},
   "source": [
    "<div class=\"alert alert-success\">\n",
    "\n",
    "If you have just started here or would like to refresh your df_qte object, run the line below."
   ]
  },
  {
   "cell_type": "code",
   "execution_count": 26,
   "metadata": {},
   "outputs": [],
   "source": [
    "import pandas as pd\n",
    "import numpy as np\n",
    "import datetime as dt"
   ]
  },
  {
   "cell_type": "code",
   "execution_count": 27,
   "metadata": {},
   "outputs": [],
   "source": [
    "df_qte = pd.read_csv('data/quote.csv')\n",
    "df_qte.columns = ['Index', 'Time', 'BidPrice', 'BidSize', 'AskPrice', 'AskSize']\n",
    "df_qte.drop(columns='Index', inplace=True)"
   ]
  },
  {
   "cell_type": "code",
   "execution_count": 28,
   "metadata": {},
   "outputs": [
    {
     "data": {
      "text/html": [
       "<div>\n",
       "<style scoped>\n",
       "    .dataframe tbody tr th:only-of-type {\n",
       "        vertical-align: middle;\n",
       "    }\n",
       "\n",
       "    .dataframe tbody tr th {\n",
       "        vertical-align: top;\n",
       "    }\n",
       "\n",
       "    .dataframe thead th {\n",
       "        text-align: right;\n",
       "    }\n",
       "</style>\n",
       "<table border=\"1\" class=\"dataframe\">\n",
       "  <thead>\n",
       "    <tr style=\"text-align: right;\">\n",
       "      <th></th>\n",
       "      <th>Time</th>\n",
       "      <th>BidPrice</th>\n",
       "      <th>BidSize</th>\n",
       "      <th>AskPrice</th>\n",
       "      <th>AskSize</th>\n",
       "    </tr>\n",
       "  </thead>\n",
       "  <tbody>\n",
       "    <tr>\n",
       "      <th>0</th>\n",
       "      <td>2014-01-02 00:45:01.020274</td>\n",
       "      <td>0.0</td>\n",
       "      <td>3.0</td>\n",
       "      <td>233.98</td>\n",
       "      <td>1.0</td>\n",
       "    </tr>\n",
       "    <tr>\n",
       "      <th>1</th>\n",
       "      <td>2014-01-02 00:45:01.520217</td>\n",
       "      <td>0.0</td>\n",
       "      <td>4.0</td>\n",
       "      <td>0.00</td>\n",
       "      <td>3.0</td>\n",
       "    </tr>\n",
       "    <tr>\n",
       "      <th>2</th>\n",
       "      <td>2014-01-02 00:45:02.020301</td>\n",
       "      <td>0.0</td>\n",
       "      <td>4.0</td>\n",
       "      <td>0.00</td>\n",
       "      <td>4.0</td>\n",
       "    </tr>\n",
       "    <tr>\n",
       "      <th>3</th>\n",
       "      <td>2014-01-02 01:08:22.692413</td>\n",
       "      <td>0.0</td>\n",
       "      <td>4.0</td>\n",
       "      <td>0.00</td>\n",
       "      <td>3.0</td>\n",
       "    </tr>\n",
       "    <tr>\n",
       "      <th>4</th>\n",
       "      <td>2014-01-02 01:09:24.700202</td>\n",
       "      <td>0.0</td>\n",
       "      <td>1.0</td>\n",
       "      <td>0.00</td>\n",
       "      <td>3.0</td>\n",
       "    </tr>\n",
       "  </tbody>\n",
       "</table>\n",
       "</div>"
      ],
      "text/plain": [
       "                         Time  BidPrice  BidSize  AskPrice  AskSize\n",
       "0  2014-01-02 00:45:01.020274       0.0      3.0    233.98      1.0\n",
       "1  2014-01-02 00:45:01.520217       0.0      4.0      0.00      3.0\n",
       "2  2014-01-02 00:45:02.020301       0.0      4.0      0.00      4.0\n",
       "3  2014-01-02 01:08:22.692413       0.0      4.0      0.00      3.0\n",
       "4  2014-01-02 01:09:24.700202       0.0      1.0      0.00      3.0"
      ]
     },
     "execution_count": 28,
     "metadata": {},
     "output_type": "execute_result"
    }
   ],
   "source": [
    "df_qte.head()"
   ]
  },
  {
   "cell_type": "markdown",
   "metadata": {},
   "source": [
    "We would like to replace the index of our DataFrame with the values in the column 'Time', converting these values into datetime objects in the process. \n",
    "\n",
    "Check for yourself what type of an object the values in column 'Time' are currently stored as."
   ]
  },
  {
   "cell_type": "code",
   "execution_count": 30,
   "metadata": {},
   "outputs": [
    {
     "data": {
      "text/plain": [
       "'2014-01-02 00:45:01.020274'"
      ]
     },
     "execution_count": 30,
     "metadata": {},
     "output_type": "execute_result"
    }
   ],
   "source": [
    "df_qte.loc[df_qte.index[0], 'Time']"
   ]
  },
  {
   "cell_type": "code",
   "execution_count": 31,
   "metadata": {},
   "outputs": [
    {
     "data": {
      "text/plain": [
       "str"
      ]
     },
     "execution_count": 31,
     "metadata": {},
     "output_type": "execute_result"
    }
   ],
   "source": [
    "type(df_qte.Time[0])"
   ]
  },
  {
   "cell_type": "markdown",
   "metadata": {},
   "source": [
    "Were we to set the Time column as the index right now, pandas would not recognise it as an index of timestamps.\n",
    "\n",
    "Let's try out the pd.to_datetime function on the first Time value."
   ]
  },
  {
   "cell_type": "code",
   "execution_count": 33,
   "metadata": {},
   "outputs": [],
   "source": [
    "import datetime as dt"
   ]
  },
  {
   "cell_type": "code",
   "execution_count": 32,
   "metadata": {},
   "outputs": [
    {
     "data": {
      "text/plain": [
       "Timestamp('2014-01-02 00:45:01.020274')"
      ]
     },
     "execution_count": 32,
     "metadata": {},
     "output_type": "execute_result"
    }
   ],
   "source": [
    "pd.to_datetime(df_qte.Time[0])"
   ]
  },
  {
   "cell_type": "markdown",
   "metadata": {},
   "source": [
    "This function works for a variety of time objects and formats."
   ]
  },
  {
   "cell_type": "code",
   "execution_count": 3,
   "metadata": {},
   "outputs": [
    {
     "data": {
      "text/plain": [
       "Timestamp('2017-05-05 12:30:00')"
      ]
     },
     "execution_count": 3,
     "metadata": {},
     "output_type": "execute_result"
    }
   ],
   "source": [
    "pd.to_datetime(dt.datetime(2017, 5, 5, 12, 30))"
   ]
  },
  {
   "cell_type": "code",
   "execution_count": 2,
   "metadata": {},
   "outputs": [],
   "source": [
    "import pandas as pd\n",
    "import datetime as dt"
   ]
  },
  {
   "cell_type": "code",
   "execution_count": null,
   "metadata": {},
   "outputs": [],
   "source": [
    "pd.to_datetime(dt)"
   ]
  },
  {
   "cell_type": "code",
   "execution_count": 43,
   "metadata": {},
   "outputs": [
    {
     "data": {
      "text/plain": [
       "Timestamp('1970-09-23 00:00:00')"
      ]
     },
     "execution_count": 43,
     "metadata": {},
     "output_type": "execute_result"
    }
   ],
   "source": [
    "pd.to_datetime(265, unit='D')"
   ]
  },
  {
   "cell_type": "markdown",
   "metadata": {},
   "source": [
    "The latter format is called Unix time or Unix epoch and is the standard high-precision timestamp format in our trading systems. It is defined as the number of seconds (or milli/micro/nanoseconds) since midnight 1 January 1970 (1/1/1970 00:00:00 GMT)."
   ]
  },
  {
   "cell_type": "markdown",
   "metadata": {},
   "source": [
    "We can set Time as a DateTimeIndex by first converting the column's values to pandas Timestamp objects, then setting it as the index in the usual way."
   ]
  },
  {
   "cell_type": "code",
   "execution_count": 44,
   "metadata": {},
   "outputs": [],
   "source": [
    "df_qte['Time'] = pd.to_datetime(df_qte['Time'])\n",
    "df_qte = df_qte.set_index('Time')"
   ]
  },
  {
   "cell_type": "code",
   "execution_count": 45,
   "metadata": {},
   "outputs": [
    {
     "data": {
      "text/html": [
       "<div>\n",
       "<style scoped>\n",
       "    .dataframe tbody tr th:only-of-type {\n",
       "        vertical-align: middle;\n",
       "    }\n",
       "\n",
       "    .dataframe tbody tr th {\n",
       "        vertical-align: top;\n",
       "    }\n",
       "\n",
       "    .dataframe thead th {\n",
       "        text-align: right;\n",
       "    }\n",
       "</style>\n",
       "<table border=\"1\" class=\"dataframe\">\n",
       "  <thead>\n",
       "    <tr style=\"text-align: right;\">\n",
       "      <th></th>\n",
       "      <th>BidPrice</th>\n",
       "      <th>BidSize</th>\n",
       "      <th>AskPrice</th>\n",
       "      <th>AskSize</th>\n",
       "    </tr>\n",
       "    <tr>\n",
       "      <th>Time</th>\n",
       "      <th></th>\n",
       "      <th></th>\n",
       "      <th></th>\n",
       "      <th></th>\n",
       "    </tr>\n",
       "  </thead>\n",
       "  <tbody>\n",
       "    <tr>\n",
       "      <th>2014-01-02 00:45:01.020274</th>\n",
       "      <td>0.0</td>\n",
       "      <td>3.0</td>\n",
       "      <td>233.98</td>\n",
       "      <td>1.0</td>\n",
       "    </tr>\n",
       "    <tr>\n",
       "      <th>2014-01-02 00:45:01.520217</th>\n",
       "      <td>0.0</td>\n",
       "      <td>4.0</td>\n",
       "      <td>0.00</td>\n",
       "      <td>3.0</td>\n",
       "    </tr>\n",
       "    <tr>\n",
       "      <th>2014-01-02 00:45:02.020301</th>\n",
       "      <td>0.0</td>\n",
       "      <td>4.0</td>\n",
       "      <td>0.00</td>\n",
       "      <td>4.0</td>\n",
       "    </tr>\n",
       "    <tr>\n",
       "      <th>2014-01-02 01:08:22.692413</th>\n",
       "      <td>0.0</td>\n",
       "      <td>4.0</td>\n",
       "      <td>0.00</td>\n",
       "      <td>3.0</td>\n",
       "    </tr>\n",
       "    <tr>\n",
       "      <th>2014-01-02 01:09:24.700202</th>\n",
       "      <td>0.0</td>\n",
       "      <td>1.0</td>\n",
       "      <td>0.00</td>\n",
       "      <td>3.0</td>\n",
       "    </tr>\n",
       "  </tbody>\n",
       "</table>\n",
       "</div>"
      ],
      "text/plain": [
       "                            BidPrice  BidSize  AskPrice  AskSize\n",
       "Time                                                            \n",
       "2014-01-02 00:45:01.020274       0.0      3.0    233.98      1.0\n",
       "2014-01-02 00:45:01.520217       0.0      4.0      0.00      3.0\n",
       "2014-01-02 00:45:02.020301       0.0      4.0      0.00      4.0\n",
       "2014-01-02 01:08:22.692413       0.0      4.0      0.00      3.0\n",
       "2014-01-02 01:09:24.700202       0.0      1.0      0.00      3.0"
      ]
     },
     "execution_count": 45,
     "metadata": {},
     "output_type": "execute_result"
    }
   ],
   "source": [
    "df_qte.head()"
   ]
  },
  {
   "cell_type": "markdown",
   "metadata": {},
   "source": [
    "Check that the index of the DataFrame is now a DatetimeIndex."
   ]
  },
  {
   "cell_type": "code",
   "execution_count": 46,
   "metadata": {},
   "outputs": [
    {
     "data": {
      "text/plain": [
       "DatetimeIndex(['2014-01-02 00:45:01.020274', '2014-01-02 00:45:01.520217',\n",
       "               '2014-01-02 00:45:02.020301', '2014-01-02 01:08:22.692413',\n",
       "               '2014-01-02 01:09:24.700202', '2014-01-02 01:09:25.200292',\n",
       "               '2014-01-02 01:10:12.206330', '2014-01-02 01:10:57.712263',\n",
       "               '2014-01-02 01:15:00.241778', '2014-01-02 01:15:00.742388',\n",
       "               ...\n",
       "               '2014-01-02 08:14:55.323523', '2014-01-02 08:14:55.823454',\n",
       "               '2014-01-02 08:14:56.323602', '2014-01-02 08:14:57.323818',\n",
       "               '2014-01-02 08:14:57.823685', '2014-01-02 08:14:58.323779',\n",
       "               '2014-01-02 08:14:58.824068', '2014-01-02 08:14:59.824308',\n",
       "               '2014-01-02 08:15:00.324603', '2014-01-02 08:17:00.338057'],\n",
       "              dtype='datetime64[ns]', name=u'Time', length=25136, freq=None)"
      ]
     },
     "execution_count": 46,
     "metadata": {},
     "output_type": "execute_result"
    }
   ],
   "source": [
    "df_qte.index"
   ]
  },
  {
   "cell_type": "markdown",
   "metadata": {
    "collapsed": true
   },
   "source": [
    "The DateTimeIndex is a lot more flexible than a regular index in how data can be selected. We can use loc with a datetime object to return a row at that exact time."
   ]
  },
  {
   "cell_type": "code",
   "execution_count": null,
   "metadata": {},
   "outputs": [],
   "source": [
    "df_qte.loc[dt.datetime(2014, 1, 2, 1, 8, 22, 692413)]"
   ]
  },
  {
   "cell_type": "markdown",
   "metadata": {},
   "source": [
    "We can also use loc with a datetime string to return all rows that match the specified datetime, up to the level of detail provided."
   ]
  },
  {
   "cell_type": "code",
   "execution_count": null,
   "metadata": {},
   "outputs": [],
   "source": [
    "df_qte.loc['2014-01-02 00:45']"
   ]
  },
  {
   "cell_type": "markdown",
   "metadata": {},
   "source": [
    "Slicing with datetime strings allows for selection of a specified time period."
   ]
  },
  {
   "cell_type": "code",
   "execution_count": null,
   "metadata": {},
   "outputs": [],
   "source": [
    "df_qte.loc['2014-01-02 00:00':'2014-01-02 01:14']"
   ]
  },
  {
   "cell_type": "markdown",
   "metadata": {},
   "source": [
    "To select the same time period across multiple days, we can use the between_time method. This can be useful for separating out morning and afternoon trading sessions, or filtering out the auction period."
   ]
  },
  {
   "cell_type": "code",
   "execution_count": null,
   "metadata": {
    "scrolled": true
   },
   "outputs": [],
   "source": [
    "df_qte.between_time('00:00', '01:15')"
   ]
  },
  {
   "cell_type": "markdown",
   "metadata": {},
   "source": [
    "Finally, the df.asof() method takes a timestamp and returns the most recent non-NaN row. Try finding the last quote prices as at 01:15 with this method."
   ]
  },
  {
   "cell_type": "code",
   "execution_count": null,
   "metadata": {},
   "outputs": [],
   "source": []
  },
  {
   "cell_type": "markdown",
   "metadata": {},
   "source": [
    "<div class=\"alert alert-block alert-warning\">\n",
    "### Working with timezones - OneTick\n",
    "\n",
    "Depending on the timezone parameter selected in your otq query, your timestamps may be imported as a tz-aware object. This is an object that belongs to the datetime (dt) package. \n",
    "\n",
    "If you would like to convert a tz-aware index into a tz-naïve index, see the following Stackoverflow post. This is especially relevant when you are pulling data from different databases in OneTick.\n",
    "\n",
    "http://stackoverflow.com/questions/16628819/convert-pandas-timezone-aware-datetimeindex-to-naive-timestamp-but-in-certain-t\n"
   ]
  },
  {
   "cell_type": "markdown",
   "metadata": {},
   "source": [
    "[Back to top](#top)"
   ]
  },
  {
   "cell_type": "markdown",
   "metadata": {},
   "source": [
    "------------\n",
    "<a id='resampling_data'></a>\n",
    "## 11. Resampling data\n",
    "\n",
    "The main method used to resample data is __df.resample__, which is available when the DataFrame/Series object has a valid DatetimeIndex.\n",
    "\n",
    "It is common to combine resampling with __dropna()__ or __fillna()__ methods as resampling upwards (higher frequency than the original data) will create null values."
   ]
  },
  {
   "cell_type": "markdown",
   "metadata": {},
   "source": [
    "<div class=\"alert alert-block alert-info\">\n",
    "\n",
    "<span style=\"color:green\">YouTube video</span>\n",
    "\n",
    "Watch the following video until around the 2 hour 13 minute mark.\n",
    "\n",
    "https://www.youtube.com/watch?v=JNfxr4BQrLk&start=6956"
   ]
  },
  {
   "cell_type": "markdown",
   "metadata": {},
   "source": [
    "**Key methods covered:**\n",
    "\n",
    "    df.resample - similar to .asfreq\n",
    "    df.fillna - fills NaNs according to specified logic"
   ]
  },
  {
   "cell_type": "markdown",
   "metadata": {},
   "source": [
    "<div class=\"alert alert-block alert-info\">\n",
    "\n",
    "<span style=\"color:green\">Additional resources</span>\n",
    "\n",
    "http://nbviewer.jupyter.org/github/jakevdp/PythonDataScienceHandbook/blob/master/notebooks/03.11-Working-with-Time-Series.ipynb#Resampling,-Shifting,-and-Windowing"
   ]
  },
  {
   "cell_type": "markdown",
   "metadata": {},
   "source": [
    "<div class=\"alert alert-success\">\n",
    "\n",
    "If you have just started here or would like to refresh your df_qte object, run the line below."
   ]
  },
  {
   "cell_type": "code",
   "execution_count": 7,
   "metadata": {},
   "outputs": [],
   "source": [
    "import pandas as pd\n",
    "import numpy as np\n",
    "import datetime as dt"
   ]
  },
  {
   "cell_type": "code",
   "execution_count": 47,
   "metadata": {},
   "outputs": [],
   "source": [
    "df_qte = pd.read_csv('data/quote.csv')\n",
    "df_qte.columns = ['Index', 'Time', 'BidPrice', 'BidSize', 'AskPrice', 'AskSize']\n",
    "df_qte.drop(columns='Index', inplace=True)\n",
    "df_qte['Time'] = pd.to_datetime(df_qte['Time'])"
   ]
  },
  {
   "cell_type": "markdown",
   "metadata": {
    "collapsed": true
   },
   "source": [
    "Let's try resampling the data into 5 minute buckets using the df.resample() method.\n",
    "\n",
    "http://pandas.pydata.org/pandas-docs/stable/generated/pandas.DataFrame.resample.html"
   ]
  },
  {
   "cell_type": "markdown",
   "metadata": {},
   "source": [
    "If we simply call .resample with a frequency (e.g. '100ms', '1s', '5min', '2h', '1D'), we will end up with a DatetimeIndexResampler object."
   ]
  },
  {
   "cell_type": "code",
   "execution_count": 48,
   "metadata": {},
   "outputs": [],
   "source": [
    "df_qte = df_qte.set_index('Time')"
   ]
  },
  {
   "cell_type": "markdown",
   "metadata": {},
   "source": [
    "This is because we have yet to specify how we want to resample the data. Try applying a __.last(), .mean()__, or __.sum()__ operation after .resample. In what situations would each be the appropriate operation to use?"
   ]
  },
  {
   "cell_type": "code",
   "execution_count": 50,
   "metadata": {
    "scrolled": true
   },
   "outputs": [
    {
     "data": {
      "text/html": [
       "<div>\n",
       "<style scoped>\n",
       "    .dataframe tbody tr th:only-of-type {\n",
       "        vertical-align: middle;\n",
       "    }\n",
       "\n",
       "    .dataframe tbody tr th {\n",
       "        vertical-align: top;\n",
       "    }\n",
       "\n",
       "    .dataframe thead th {\n",
       "        text-align: right;\n",
       "    }\n",
       "</style>\n",
       "<table border=\"1\" class=\"dataframe\">\n",
       "  <thead>\n",
       "    <tr style=\"text-align: right;\">\n",
       "      <th></th>\n",
       "      <th>BidPrice</th>\n",
       "      <th>BidSize</th>\n",
       "      <th>AskPrice</th>\n",
       "      <th>AskSize</th>\n",
       "    </tr>\n",
       "    <tr>\n",
       "      <th>Time</th>\n",
       "      <th></th>\n",
       "      <th></th>\n",
       "      <th></th>\n",
       "      <th></th>\n",
       "    </tr>\n",
       "  </thead>\n",
       "  <tbody>\n",
       "    <tr>\n",
       "      <th>2014-01-02 00:40:00</th>\n",
       "      <td>0.000000</td>\n",
       "      <td>3.666667</td>\n",
       "      <td>77.993333</td>\n",
       "      <td>2.666667</td>\n",
       "    </tr>\n",
       "    <tr>\n",
       "      <th>2014-01-02 01:00:00</th>\n",
       "      <td>232.095637</td>\n",
       "      <td>4.119691</td>\n",
       "      <td>232.609479</td>\n",
       "      <td>2.976834</td>\n",
       "    </tr>\n",
       "    <tr>\n",
       "      <th>2014-01-02 01:20:00</th>\n",
       "      <td>233.880870</td>\n",
       "      <td>3.797419</td>\n",
       "      <td>233.937497</td>\n",
       "      <td>3.739057</td>\n",
       "    </tr>\n",
       "    <tr>\n",
       "      <th>2014-01-02 01:40:00</th>\n",
       "      <td>233.113115</td>\n",
       "      <td>3.017478</td>\n",
       "      <td>233.155568</td>\n",
       "      <td>3.274657</td>\n",
       "    </tr>\n",
       "    <tr>\n",
       "      <th>2014-01-02 02:00:00</th>\n",
       "      <td>232.773070</td>\n",
       "      <td>3.443908</td>\n",
       "      <td>232.813528</td>\n",
       "      <td>3.567551</td>\n",
       "    </tr>\n",
       "    <tr>\n",
       "      <th>2014-01-02 02:20:00</th>\n",
       "      <td>232.617436</td>\n",
       "      <td>3.517094</td>\n",
       "      <td>232.658084</td>\n",
       "      <td>3.338319</td>\n",
       "    </tr>\n",
       "    <tr>\n",
       "      <th>2014-01-02 02:40:00</th>\n",
       "      <td>231.648899</td>\n",
       "      <td>3.708064</td>\n",
       "      <td>231.690129</td>\n",
       "      <td>4.856386</td>\n",
       "    </tr>\n",
       "    <tr>\n",
       "      <th>2014-01-02 03:00:00</th>\n",
       "      <td>231.689362</td>\n",
       "      <td>3.382567</td>\n",
       "      <td>231.730646</td>\n",
       "      <td>3.464084</td>\n",
       "    </tr>\n",
       "    <tr>\n",
       "      <th>2014-01-02 03:20:00</th>\n",
       "      <td>231.518236</td>\n",
       "      <td>3.401211</td>\n",
       "      <td>231.560810</td>\n",
       "      <td>3.281605</td>\n",
       "    </tr>\n",
       "    <tr>\n",
       "      <th>2014-01-02 03:40:00</th>\n",
       "      <td>232.012427</td>\n",
       "      <td>3.155963</td>\n",
       "      <td>232.055038</td>\n",
       "      <td>3.123436</td>\n",
       "    </tr>\n",
       "    <tr>\n",
       "      <th>2014-01-02 04:00:00</th>\n",
       "      <td>231.000000</td>\n",
       "      <td>1.000000</td>\n",
       "      <td>232.570000</td>\n",
       "      <td>1.000000</td>\n",
       "    </tr>\n",
       "    <tr>\n",
       "      <th>2014-01-02 04:20:00</th>\n",
       "      <td>0.000000</td>\n",
       "      <td>3.333333</td>\n",
       "      <td>77.523333</td>\n",
       "      <td>3.000000</td>\n",
       "    </tr>\n",
       "    <tr>\n",
       "      <th>2014-01-02 04:40:00</th>\n",
       "      <td>58.012500</td>\n",
       "      <td>1.500000</td>\n",
       "      <td>174.427500</td>\n",
       "      <td>1.000000</td>\n",
       "    </tr>\n",
       "    <tr>\n",
       "      <th>2014-01-02 05:00:00</th>\n",
       "      <td>232.168823</td>\n",
       "      <td>4.423398</td>\n",
       "      <td>232.216623</td>\n",
       "      <td>3.141365</td>\n",
       "    </tr>\n",
       "    <tr>\n",
       "      <th>2014-01-02 05:20:00</th>\n",
       "      <td>232.057148</td>\n",
       "      <td>3.866457</td>\n",
       "      <td>232.098460</td>\n",
       "      <td>3.355852</td>\n",
       "    </tr>\n",
       "    <tr>\n",
       "      <th>2014-01-02 05:40:00</th>\n",
       "      <td>232.421540</td>\n",
       "      <td>4.638041</td>\n",
       "      <td>232.461895</td>\n",
       "      <td>4.134847</td>\n",
       "    </tr>\n",
       "    <tr>\n",
       "      <th>2014-01-02 06:00:00</th>\n",
       "      <td>233.060801</td>\n",
       "      <td>2.583722</td>\n",
       "      <td>233.102355</td>\n",
       "      <td>3.867912</td>\n",
       "    </tr>\n",
       "    <tr>\n",
       "      <th>2014-01-02 06:20:00</th>\n",
       "      <td>232.847177</td>\n",
       "      <td>3.154808</td>\n",
       "      <td>232.893761</td>\n",
       "      <td>3.842064</td>\n",
       "    </tr>\n",
       "    <tr>\n",
       "      <th>2014-01-02 06:40:00</th>\n",
       "      <td>232.566142</td>\n",
       "      <td>3.467252</td>\n",
       "      <td>232.607588</td>\n",
       "      <td>3.361821</td>\n",
       "    </tr>\n",
       "    <tr>\n",
       "      <th>2014-01-02 07:00:00</th>\n",
       "      <td>232.489069</td>\n",
       "      <td>2.514827</td>\n",
       "      <td>232.524217</td>\n",
       "      <td>3.172982</td>\n",
       "    </tr>\n",
       "    <tr>\n",
       "      <th>2014-01-02 07:20:00</th>\n",
       "      <td>232.595163</td>\n",
       "      <td>3.571138</td>\n",
       "      <td>232.636555</td>\n",
       "      <td>3.033537</td>\n",
       "    </tr>\n",
       "    <tr>\n",
       "      <th>2014-01-02 07:40:00</th>\n",
       "      <td>232.656477</td>\n",
       "      <td>3.447077</td>\n",
       "      <td>232.693823</td>\n",
       "      <td>3.827014</td>\n",
       "    </tr>\n",
       "    <tr>\n",
       "      <th>2014-01-02 08:00:00</th>\n",
       "      <td>232.726123</td>\n",
       "      <td>3.238313</td>\n",
       "      <td>232.767424</td>\n",
       "      <td>3.967003</td>\n",
       "    </tr>\n",
       "  </tbody>\n",
       "</table>\n",
       "</div>"
      ],
      "text/plain": [
       "                       BidPrice   BidSize    AskPrice   AskSize\n",
       "Time                                                           \n",
       "2014-01-02 00:40:00    0.000000  3.666667   77.993333  2.666667\n",
       "2014-01-02 01:00:00  232.095637  4.119691  232.609479  2.976834\n",
       "2014-01-02 01:20:00  233.880870  3.797419  233.937497  3.739057\n",
       "2014-01-02 01:40:00  233.113115  3.017478  233.155568  3.274657\n",
       "2014-01-02 02:00:00  232.773070  3.443908  232.813528  3.567551\n",
       "2014-01-02 02:20:00  232.617436  3.517094  232.658084  3.338319\n",
       "2014-01-02 02:40:00  231.648899  3.708064  231.690129  4.856386\n",
       "2014-01-02 03:00:00  231.689362  3.382567  231.730646  3.464084\n",
       "2014-01-02 03:20:00  231.518236  3.401211  231.560810  3.281605\n",
       "2014-01-02 03:40:00  232.012427  3.155963  232.055038  3.123436\n",
       "2014-01-02 04:00:00  231.000000  1.000000  232.570000  1.000000\n",
       "2014-01-02 04:20:00    0.000000  3.333333   77.523333  3.000000\n",
       "2014-01-02 04:40:00   58.012500  1.500000  174.427500  1.000000\n",
       "2014-01-02 05:00:00  232.168823  4.423398  232.216623  3.141365\n",
       "2014-01-02 05:20:00  232.057148  3.866457  232.098460  3.355852\n",
       "2014-01-02 05:40:00  232.421540  4.638041  232.461895  4.134847\n",
       "2014-01-02 06:00:00  233.060801  2.583722  233.102355  3.867912\n",
       "2014-01-02 06:20:00  232.847177  3.154808  232.893761  3.842064\n",
       "2014-01-02 06:40:00  232.566142  3.467252  232.607588  3.361821\n",
       "2014-01-02 07:00:00  232.489069  2.514827  232.524217  3.172982\n",
       "2014-01-02 07:20:00  232.595163  3.571138  232.636555  3.033537\n",
       "2014-01-02 07:40:00  232.656477  3.447077  232.693823  3.827014\n",
       "2014-01-02 08:00:00  232.726123  3.238313  232.767424  3.967003"
      ]
     },
     "execution_count": 50,
     "metadata": {},
     "output_type": "execute_result"
    }
   ],
   "source": [
    "df_qte.resample('20min').mean()"
   ]
  },
  {
   "cell_type": "code",
   "execution_count": null,
   "metadata": {},
   "outputs": [],
   "source": []
  },
  {
   "cell_type": "code",
   "execution_count": null,
   "metadata": {},
   "outputs": [],
   "source": []
  },
  {
   "cell_type": "markdown",
   "metadata": {},
   "source": [
    "Resampling often results in NaNs. This happens when no data comes through within that sample period. \n",
    "\n",
    "It is appropriate to forward fill the NaNs if the data represents updates to the state of some object (e.g. an order book, a volatility curve, an autotrader's parameters). If the data represents individual events like trade ticks, then forward filling will overcount trade volumes. In this case, it is more appropriate to fill NaNs with 0, to drop the NaNs, or to simply keep them in the DataFrame."
   ]
  },
  {
   "cell_type": "markdown",
   "metadata": {},
   "source": [
    "Sometimes our data consists of distinct groups and we want to apply a resampling operation - for instance, resample all relative expiries of a volatility surface. Let's load up that data again."
   ]
  },
  {
   "cell_type": "code",
   "execution_count": null,
   "metadata": {},
   "outputs": [],
   "source": [
    "df_vols = pd.read_csv('data/vols.csv')\n",
    "df_vols.TIMESTAMP = pd.to_datetime(df_vols.TIMESTAMP)\n",
    "df_vols = df_vols.set_index('TIMESTAMP', drop=True)\n",
    "df_vols.head()"
   ]
  },
  {
   "cell_type": "markdown",
   "metadata": {},
   "source": [
    "Try resampling and getting the first update every 10 minutes."
   ]
  },
  {
   "cell_type": "code",
   "execution_count": null,
   "metadata": {},
   "outputs": [],
   "source": []
  },
  {
   "cell_type": "markdown",
   "metadata": {},
   "source": [
    "This operation isn't what we wanted, since we get a relative expiry at random for each time bucket. We can instead perform a resample after a __groupby__ before getting the first entry, so that we resample each relative expiry properly.\n",
    "\n",
    "Try getting the volatility values for each relative expiry every 10 mins by:\n",
    "1. Grouping by RELATIVE_EXPIRY\n",
    "2. Resampling\n",
    "3. Selecting only the VOLATILITY column\n",
    "4. Unstacking RELATIVE_EXPIRY from the index to the columns.\n",
    "5. Forward-filling NaNs, if any."
   ]
  },
  {
   "cell_type": "code",
   "execution_count": null,
   "metadata": {},
   "outputs": [],
   "source": []
  },
  {
   "cell_type": "code",
   "execution_count": null,
   "metadata": {},
   "outputs": [],
   "source": []
  },
  {
   "cell_type": "code",
   "execution_count": null,
   "metadata": {},
   "outputs": [],
   "source": []
  },
  {
   "cell_type": "code",
   "execution_count": null,
   "metadata": {},
   "outputs": [],
   "source": [
    "#solutions\n",
    "%load resample_sol1.py"
   ]
  },
  {
   "cell_type": "markdown",
   "metadata": {},
   "source": [
    "[Back to top](#top)"
   ]
  },
  {
   "cell_type": "markdown",
   "metadata": {},
   "source": [
    "------------\n",
    "<a id='merge_time'></a>\n",
    "# 12. Merging by time"
   ]
  },
  {
   "cell_type": "markdown",
   "metadata": {},
   "source": [
    "The joins we covered in the previous session were __exact__ joins. That is, the data were only joined together if the values of each key were identical.\n",
    "\n",
    "If we want to join two time series together, we'll find that the timestamps rarely match exactly. The join we are after is usually along the lines of \"for each row in [left source], give me the most recent data from [right source]\".\n",
    "\n",
    "The classic example in trading data is joining trade and quote data together. We want to know, for each trade, what the state of the order book was at that time.\n",
    "\n",
    "Pandas implements this kind of join with the function\n",
    "\n",
    "    pd.merge_asof()\n",
    "    \n",
    "which is very similar to pd.merge. There a few additional arguments that are specific to pd.merge_asof:\n",
    "\n",
    "    direction - whether to find the matching row from the right source, either 'backward' (default), 'forward' (i.e. next row), or 'nearest'\n",
    "    tolerance - only match if the difference between indexes is below this number, e.g. tolerance=pd.Timedelta('1s') will only join the right source if its time was within 1 second of the left source\n",
    "    by - do the time join for each value in these columns separately. E.g. by='FEEDCODE' will perform the join for each feedcode separately. "
   ]
  },
  {
   "cell_type": "markdown",
   "metadata": {},
   "source": [
    "<div class=\"alert alert-block alert-info\">\n",
    "\n",
    "<span style=\"color:green\">Additional resources</span>\n",
    "\n",
    "https://pandas.pydata.org/pandas-docs/stable/generated/pandas.merge_asof.html"
   ]
  },
  {
   "cell_type": "markdown",
   "metadata": {},
   "source": [
    "Let's load up both quote and trade data."
   ]
  },
  {
   "cell_type": "code",
   "execution_count": null,
   "metadata": {},
   "outputs": [],
   "source": [
    "df_qte = pd.read_csv('data/quote.csv')\n",
    "df_qte.columns = ['Index', 'Time', 'BidPrice', 'BidSize', 'AskPrice', 'AskSize']\n",
    "df_qte.Time = pd.to_datetime(df_qte.Time)\n",
    "df_qte.drop(columns='Index', inplace=True)\n",
    "df_qte = df_qte.set_index('Time', drop=True)\n",
    "df_qte.head()"
   ]
  },
  {
   "cell_type": "code",
   "execution_count": null,
   "metadata": {},
   "outputs": [],
   "source": [
    "df_trd = pd.read_csv('data/trade.csv')\n",
    "df_trd.TIMESTAMP = pd.to_datetime(df_trd.TIMESTAMP)\n",
    "df_trd = df_trd.set_index('TIMESTAMP', drop=True)\n",
    "df_trd.head()"
   ]
  },
  {
   "cell_type": "markdown",
   "metadata": {},
   "source": [
    "For each trade, we can join on the most recent quote with pd.merge. Since our join key, the timestamps, are in each DataFrame's index, we have to set left_index=True and right_index=True."
   ]
  },
  {
   "cell_type": "code",
   "execution_count": null,
   "metadata": {},
   "outputs": [],
   "source": [
    "df = pd.merge_asof(df_trd, df_qte, left_index=True, right_index=True)\n",
    "df"
   ]
  },
  {
   "cell_type": "markdown",
   "metadata": {},
   "source": [
    "It looks like our trade prices don't always match up with the best bid or offer, i.e. there are synchronisation issues. Try to calculate the percentage of trades that don't line up with our quote data, using conditional expressions."
   ]
  },
  {
   "cell_type": "code",
   "execution_count": null,
   "metadata": {},
   "outputs": [],
   "source": []
  },
  {
   "cell_type": "code",
   "execution_count": null,
   "metadata": {},
   "outputs": [],
   "source": [
    "#solutions\n",
    "%load time_sol1.py"
   ]
  },
  {
   "cell_type": "markdown",
   "metadata": {},
   "source": [
    "[Back to top](#top)"
   ]
  },
  {
   "cell_type": "markdown",
   "metadata": {},
   "source": [
    "------------\n",
    "<a id='exercises4'></a>\n",
    "# Exercise set 4"
   ]
  },
  {
   "cell_type": "markdown",
   "metadata": {},
   "source": [
    "Calculate the 30-minute price change for each trade, and plot the price changes as a time series and a histogram. Your 30-minute delayed price should be the midpoint of the nearest quote update. (Hint: Use __pd.merge_asof__, __df.tshift__, and __df.plot.hist__.)"
   ]
  },
  {
   "cell_type": "code",
   "execution_count": null,
   "metadata": {},
   "outputs": [],
   "source": []
  },
  {
   "cell_type": "code",
   "execution_count": null,
   "metadata": {},
   "outputs": [],
   "source": []
  },
  {
   "cell_type": "code",
   "execution_count": null,
   "metadata": {},
   "outputs": [],
   "source": []
  },
  {
   "cell_type": "code",
   "execution_count": null,
   "metadata": {},
   "outputs": [],
   "source": []
  },
  {
   "cell_type": "code",
   "execution_count": null,
   "metadata": {},
   "outputs": [],
   "source": []
  },
  {
   "cell_type": "code",
   "execution_count": null,
   "metadata": {},
   "outputs": [],
   "source": []
  }
 ],
 "metadata": {
  "anaconda-cloud": {},
  "kernelspec": {
   "display_name": "Python 2",
   "language": "python",
   "name": "python2"
  },
  "language_info": {
   "codemirror_mode": {
    "name": "ipython",
    "version": 2
   },
   "file_extension": ".py",
   "mimetype": "text/x-python",
   "name": "python",
   "nbconvert_exporter": "python",
   "pygments_lexer": "ipython2",
   "version": "2.7.14"
  }
 },
 "nbformat": 4,
 "nbformat_minor": 1
}
